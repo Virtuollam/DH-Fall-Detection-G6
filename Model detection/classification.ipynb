{
 "cells": [
  {
   "cell_type": "code",
   "execution_count": null,
   "metadata": {},
   "outputs": [],
   "source": [
    "import pandas as pd\n",
    "from sklearn.model_selection import train_test_split\n",
    "from sklearn.preprocessing import StandardScaler\n",
    "from sklearn.svm import SVC\n",
    "from sklearn.pipeline import make_pipeline\n",
    "import pickle\n",
    "\n",
    "# Load data\n",
    "def load_data(files):\n",
    "    data_frames = []\n",
    "    for file_path, label in files.items():\n",
    "        df = pd.read_csv(file_path)\n",
    "        df['label'] = label\n",
    "        data_frames.append(df)\n",
    "    return pd.concat(data_frames, ignore_index=True)\n",
    "\n",
    "files = {\n",
    "    '/mnt/data/sitdown&up_20240205_155420.csv': 0,\n",
    "    '/mnt/data/repeated_jumping_20240205_155636.csv': 1,\n",
    "    '/mnt/data/standing_20240205_155041.csv': 2,\n",
    "}\n",
    "\n",
    "data = load_data(files)\n",
    "\n",
    "# Assuming the labels are correctly assigned in the files dictionary\n",
    "features = data[['acceleration_x', 'acceleration_y', 'acceleration_z', 'gyroscope_x', 'gyroscope_y', 'gyroscope_z']]\n",
    "labels = data['label']\n",
    "\n",
    "# Split data into training and testing sets\n",
    "X_train, X_test, y_train, y_test = train_test_split(features, labels, test_size=0.2, random_state=42)\n",
    "\n",
    "# Create a SVM model with a pipeline that includes preprocessing\n",
    "model = make_pipeline(StandardScaler(), SVC(kernel='rbf', probability=True))\n",
    "\n",
    "# Train the model\n",
    "model.fit(X_train, y_train)\n",
    "\n",
    "# Save the trained model\n",
    "with open('/mnt/data/svm_model.pkl', 'wb') as file:\n",
    "    pickle.dump(model, file)\n",
    "\n",
    "print(\"Model trained and saved successfully.\")"
   ]
  }
 ],
 "metadata": {
  "language_info": {
   "name": "python"
  }
 },
 "nbformat": 4,
 "nbformat_minor": 2
}
