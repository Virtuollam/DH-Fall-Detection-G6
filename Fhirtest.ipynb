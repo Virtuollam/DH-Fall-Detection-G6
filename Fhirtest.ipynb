{
 "cells": [
  {
   "cell_type": "code",
   "execution_count": 33,
   "metadata": {},
   "outputs": [],
   "source": [
    "import requests\n",
    "import random"
   ]
  },
  {
   "cell_type": "code",
   "execution_count": 34,
   "metadata": {},
   "outputs": [],
   "source": [
    "sussy = requests.get('https://fhirsandbox.healthit.gov/open/r4/fhir/Patient?_format=json')\n",
    "jsus = sussy.json()\n",
    "patients = jsus[\"entry\"]\n",
    "\n"
   ]
  },
  {
   "cell_type": "code",
   "execution_count": 35,
   "metadata": {},
   "outputs": [
    {
     "name": "stdout",
     "output_type": "stream",
     "text": [
      "b7213a01-4d0f-4419-a5fc-b9e45616ac83\n"
     ]
    }
   ],
   "source": [
    "\n",
    "pnr = random.randint(0,len(patients)-1)\n",
    "patient = patients[pnr][\"resource\"]\n",
    "patientid = patient[\"id\"]\n",
    "print(patientid)\n",
    "\n"
   ]
  },
  {
   "cell_type": "code",
   "execution_count": 36,
   "metadata": {},
   "outputs": [
    {
     "name": "stdout",
     "output_type": "stream",
     "text": [
      "Impacted molars\n",
      "Chronic intractable migraine without aura\n",
      "Chronic pain\n",
      "Drug overdose\n",
      "Viral sinusitis (disorder)\n",
      "Tear of meniscus of knee\n",
      "Suspected lung cancer (situation)\n",
      "Non-small cell lung cancer (disorder)\n",
      "Anemia (disorder)\n",
      "Non-small cell carcinoma of lung, TNM stage 1 (disorder)\n"
     ]
    }
   ],
   "source": [
    "condcon = requests.get('https://fhirsandbox.healthit.gov/open/r4/fhir/Condition?_format=json')\n",
    "patientconds = condcon.json()[\"entry\"]\n",
    "#print(patientconds)\n",
    "\n",
    "patientcond = (item for item in patientconds if item[\"resource\"][\"subject\"][\"reference\"] == \"Patient/\" + patientid)\n",
    "#print(list(patientcond))\n",
    "for item in patientcond:\n",
    "    print(item[\"resource\"][\"code\"][\"coding\"][0][\"display\"])"
   ]
  },
  {
   "cell_type": "code",
   "execution_count": 45,
   "metadata": {},
   "outputs": [],
   "source": [
    "medcon = requests.get('https://fhirsandbox.healthit.gov/open/r4/fhir/MedicationRequest?_format=json')\n",
    "patientmeds = medcon.json()[\"entry\"]\n",
    "\n",
    "patientmed = (item for item in patientmeds if item[\"resource\"][\"subject\"][\"reference\"] == \"Patient/\" + patientid)\n",
    "\n",
    "for item in patientmed:\n",
    "    if item[\"resource\"][\"status\"] == \"active\":\n",
    "        if \"medicationCodeableConcept\" in item[\"resource\"]:\n",
    "            print(item[\"resource\"][\"medicationCodeableConcept\"][\"coding\"][0][\"display\"])\n",
    "        if \"medicationReference\" in item[\"resource\"]:\n",
    "            print(item[\"resource\"][\"medicationReference\"][\"display\"])"
   ]
  }
 ],
 "metadata": {
  "kernelspec": {
   "display_name": "Python 3",
   "language": "python",
   "name": "python3"
  },
  "language_info": {
   "codemirror_mode": {
    "name": "ipython",
    "version": 3
   },
   "file_extension": ".py",
   "mimetype": "text/x-python",
   "name": "python",
   "nbconvert_exporter": "python",
   "pygments_lexer": "ipython3",
   "version": "3.10.7"
  }
 },
 "nbformat": 4,
 "nbformat_minor": 2
}
