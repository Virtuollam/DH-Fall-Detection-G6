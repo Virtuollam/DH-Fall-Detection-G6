{
 "cells": [
  {
   "cell_type": "code",
   "execution_count": 4,
   "metadata": {},
   "outputs": [
    {
     "name": "stdout",
     "output_type": "stream",
     "text": [
      "Epoch 1/50\n",
      "WARNING:tensorflow:From c:\\Users\\jakok\\AppData\\Local\\Programs\\Python\\Python310\\lib\\site-packages\\keras\\src\\utils\\tf_utils.py:492: The name tf.ragged.RaggedTensorValue is deprecated. Please use tf.compat.v1.ragged.RaggedTensorValue instead.\n",
      "\n",
      "WARNING:tensorflow:From c:\\Users\\jakok\\AppData\\Local\\Programs\\Python\\Python310\\lib\\site-packages\\keras\\src\\engine\\base_layer_utils.py:384: The name tf.executing_eagerly_outside_functions is deprecated. Please use tf.compat.v1.executing_eagerly_outside_functions instead.\n",
      "\n",
      "293/293 [==============================] - 5s 7ms/step - loss: 1.3093 - accuracy: 0.5267 - val_loss: 1.0289 - val_accuracy: 0.6034\n",
      "Epoch 2/50\n",
      "293/293 [==============================] - 1s 5ms/step - loss: 0.8745 - accuracy: 0.6632 - val_loss: 0.8532 - val_accuracy: 0.6516\n",
      "Epoch 3/50\n",
      "293/293 [==============================] - 2s 5ms/step - loss: 0.7730 - accuracy: 0.6861 - val_loss: 0.7893 - val_accuracy: 0.6762\n",
      "Epoch 4/50\n",
      "293/293 [==============================] - 1s 4ms/step - loss: 0.7187 - accuracy: 0.7130 - val_loss: 0.7465 - val_accuracy: 0.6946\n",
      "Epoch 5/50\n",
      "293/293 [==============================] - 1s 4ms/step - loss: 0.6841 - accuracy: 0.7196 - val_loss: 0.7162 - val_accuracy: 0.6993\n",
      "Epoch 6/50\n",
      "293/293 [==============================] - 1s 4ms/step - loss: 0.6616 - accuracy: 0.7240 - val_loss: 0.6978 - val_accuracy: 0.7033\n",
      "Epoch 7/50\n",
      "293/293 [==============================] - 1s 3ms/step - loss: 0.6446 - accuracy: 0.7290 - val_loss: 0.6884 - val_accuracy: 0.7223\n",
      "Epoch 8/50\n",
      "293/293 [==============================] - 1s 3ms/step - loss: 0.6298 - accuracy: 0.7336 - val_loss: 0.6735 - val_accuracy: 0.7251\n",
      "Epoch 9/50\n",
      "293/293 [==============================] - 1s 4ms/step - loss: 0.6186 - accuracy: 0.7421 - val_loss: 0.6599 - val_accuracy: 0.7307\n",
      "Epoch 10/50\n",
      "293/293 [==============================] - 1s 4ms/step - loss: 0.6094 - accuracy: 0.7462 - val_loss: 0.6550 - val_accuracy: 0.7339\n",
      "Epoch 11/50\n",
      "293/293 [==============================] - 1s 3ms/step - loss: 0.6007 - accuracy: 0.7465 - val_loss: 0.6484 - val_accuracy: 0.7367\n",
      "Epoch 12/50\n",
      "293/293 [==============================] - 1s 3ms/step - loss: 0.5947 - accuracy: 0.7509 - val_loss: 0.6355 - val_accuracy: 0.7433\n",
      "Epoch 13/50\n",
      "293/293 [==============================] - 1s 4ms/step - loss: 0.5870 - accuracy: 0.7550 - val_loss: 0.6317 - val_accuracy: 0.7401\n",
      "Epoch 14/50\n",
      "293/293 [==============================] - 1s 3ms/step - loss: 0.5817 - accuracy: 0.7566 - val_loss: 0.6311 - val_accuracy: 0.7428\n",
      "Epoch 15/50\n",
      "293/293 [==============================] - 1s 4ms/step - loss: 0.5759 - accuracy: 0.7608 - val_loss: 0.6273 - val_accuracy: 0.7428\n",
      "Epoch 16/50\n",
      "293/293 [==============================] - 1s 4ms/step - loss: 0.5725 - accuracy: 0.7630 - val_loss: 0.6234 - val_accuracy: 0.7420\n",
      "Epoch 17/50\n",
      "293/293 [==============================] - 1s 4ms/step - loss: 0.5669 - accuracy: 0.7642 - val_loss: 0.6170 - val_accuracy: 0.7510\n",
      "Epoch 18/50\n",
      "293/293 [==============================] - 1s 4ms/step - loss: 0.5626 - accuracy: 0.7666 - val_loss: 0.6203 - val_accuracy: 0.7475\n",
      "Epoch 19/50\n",
      "293/293 [==============================] - 1s 3ms/step - loss: 0.5598 - accuracy: 0.7681 - val_loss: 0.6168 - val_accuracy: 0.7484\n",
      "Epoch 20/50\n",
      "293/293 [==============================] - 1s 4ms/step - loss: 0.5554 - accuracy: 0.7701 - val_loss: 0.6111 - val_accuracy: 0.7501\n",
      "Epoch 21/50\n",
      "293/293 [==============================] - 1s 4ms/step - loss: 0.5546 - accuracy: 0.7687 - val_loss: 0.6096 - val_accuracy: 0.7527\n",
      "Epoch 22/50\n",
      "293/293 [==============================] - 1s 4ms/step - loss: 0.5504 - accuracy: 0.7712 - val_loss: 0.6044 - val_accuracy: 0.7569\n",
      "Epoch 23/50\n",
      "293/293 [==============================] - 1s 4ms/step - loss: 0.5472 - accuracy: 0.7737 - val_loss: 0.6078 - val_accuracy: 0.7512\n",
      "Epoch 24/50\n",
      "293/293 [==============================] - 1s 4ms/step - loss: 0.5443 - accuracy: 0.7749 - val_loss: 0.6044 - val_accuracy: 0.7531\n",
      "Epoch 25/50\n",
      "293/293 [==============================] - 1s 4ms/step - loss: 0.5413 - accuracy: 0.7763 - val_loss: 0.6017 - val_accuracy: 0.7537\n",
      "Epoch 26/50\n",
      "293/293 [==============================] - 1s 4ms/step - loss: 0.5393 - accuracy: 0.7774 - val_loss: 0.6028 - val_accuracy: 0.7544\n",
      "Epoch 27/50\n",
      "293/293 [==============================] - 1s 3ms/step - loss: 0.5374 - accuracy: 0.7786 - val_loss: 0.5984 - val_accuracy: 0.7548\n",
      "Epoch 28/50\n",
      "293/293 [==============================] - 1s 4ms/step - loss: 0.5343 - accuracy: 0.7797 - val_loss: 0.5988 - val_accuracy: 0.7565\n",
      "Epoch 29/50\n",
      "293/293 [==============================] - 1s 4ms/step - loss: 0.5322 - accuracy: 0.7804 - val_loss: 0.5989 - val_accuracy: 0.7533\n",
      "Epoch 30/50\n",
      "293/293 [==============================] - 1s 4ms/step - loss: 0.5297 - accuracy: 0.7806 - val_loss: 0.6025 - val_accuracy: 0.7572\n",
      "Epoch 31/50\n",
      "293/293 [==============================] - 1s 4ms/step - loss: 0.5273 - accuracy: 0.7819 - val_loss: 0.5927 - val_accuracy: 0.7576\n",
      "Epoch 32/50\n",
      "293/293 [==============================] - 1s 4ms/step - loss: 0.5262 - accuracy: 0.7839 - val_loss: 0.5938 - val_accuracy: 0.7563\n",
      "Epoch 33/50\n",
      "293/293 [==============================] - 1s 4ms/step - loss: 0.5232 - accuracy: 0.7863 - val_loss: 0.5919 - val_accuracy: 0.7606\n",
      "Epoch 34/50\n",
      "293/293 [==============================] - 1s 4ms/step - loss: 0.5215 - accuracy: 0.7876 - val_loss: 0.5974 - val_accuracy: 0.7537\n",
      "Epoch 35/50\n",
      "293/293 [==============================] - 1s 4ms/step - loss: 0.5190 - accuracy: 0.7878 - val_loss: 0.5887 - val_accuracy: 0.7614\n",
      "Epoch 36/50\n",
      "293/293 [==============================] - 1s 4ms/step - loss: 0.5169 - accuracy: 0.7871 - val_loss: 0.5910 - val_accuracy: 0.7584\n",
      "Epoch 37/50\n",
      "293/293 [==============================] - 1s 4ms/step - loss: 0.5144 - accuracy: 0.7903 - val_loss: 0.5885 - val_accuracy: 0.7608\n",
      "Epoch 38/50\n",
      "293/293 [==============================] - 1s 4ms/step - loss: 0.5115 - accuracy: 0.7916 - val_loss: 0.5866 - val_accuracy: 0.7619\n",
      "Epoch 39/50\n",
      "293/293 [==============================] - 1s 4ms/step - loss: 0.5117 - accuracy: 0.7913 - val_loss: 0.5954 - val_accuracy: 0.7559\n",
      "Epoch 40/50\n",
      "293/293 [==============================] - 1s 4ms/step - loss: 0.5082 - accuracy: 0.7916 - val_loss: 0.5853 - val_accuracy: 0.7644\n",
      "Epoch 41/50\n",
      "293/293 [==============================] - 1s 4ms/step - loss: 0.5075 - accuracy: 0.7925 - val_loss: 0.5829 - val_accuracy: 0.7633\n",
      "Epoch 42/50\n",
      "293/293 [==============================] - 1s 4ms/step - loss: 0.5041 - accuracy: 0.7927 - val_loss: 0.5852 - val_accuracy: 0.7636\n",
      "Epoch 43/50\n",
      "293/293 [==============================] - 1s 4ms/step - loss: 0.5036 - accuracy: 0.7925 - val_loss: 0.5890 - val_accuracy: 0.7614\n",
      "Epoch 44/50\n",
      "293/293 [==============================] - 1s 4ms/step - loss: 0.5016 - accuracy: 0.7960 - val_loss: 0.5799 - val_accuracy: 0.7633\n",
      "Epoch 45/50\n",
      "293/293 [==============================] - 1s 4ms/step - loss: 0.4996 - accuracy: 0.7958 - val_loss: 0.5827 - val_accuracy: 0.7646\n",
      "Epoch 46/50\n",
      "293/293 [==============================] - 1s 4ms/step - loss: 0.4992 - accuracy: 0.7954 - val_loss: 0.5820 - val_accuracy: 0.7625\n",
      "Epoch 47/50\n",
      "293/293 [==============================] - 1s 4ms/step - loss: 0.4957 - accuracy: 0.7962 - val_loss: 0.5811 - val_accuracy: 0.7608\n",
      "Epoch 48/50\n",
      "293/293 [==============================] - 1s 4ms/step - loss: 0.4954 - accuracy: 0.7969 - val_loss: 0.5956 - val_accuracy: 0.7597\n",
      "Epoch 49/50\n",
      "293/293 [==============================] - 1s 4ms/step - loss: 0.4918 - accuracy: 0.7993 - val_loss: 0.5909 - val_accuracy: 0.7640\n",
      "183/183 [==============================] - 1s 2ms/step\n",
      "F1 Score: 0.7670913123870471\n"
     ]
    },
    {
     "data": {
      "image/png": "[encoded data removed]",
      "text/plain": [
       "<Figure size 1000x700 with 2 Axes>"
      ]
     },
     "metadata": {},
     "output_type": "display_data"
    },
    {
     "name": "stdout",
     "output_type": "stream",
     "text": [
      "Model and preprocessors saved successfully.\n"
     ]
    }
   ],
   "source": [
    "import pandas as pd\n",
    "from sklearn.preprocessing import StandardScaler, LabelEncoder\n",
    "from sklearn.model_selection import train_test_split\n",
    "from tensorflow.keras.models import Sequential\n",
    "from tensorflow.keras.layers import LSTM, Dense\n",
    "from tensorflow.keras.callbacks import EarlyStopping\n",
    "from sklearn.metrics import f1_score, confusion_matrix\n",
    "import matplotlib.pyplot as plt\n",
    "import seaborn as sns\n",
    "\n",
    "import numpy as np\n",
    "import pickle\n",
    "\n",
    "# Load the data\n",
    "file_paths = [\n",
    "    'Multiclass Labeled Data/bag_toss_labeled_1.csv',\n",
    "    'Multiclass Labeled Data/sitting_up_down_labeled_2.csv',\n",
    "    'Multiclass Labeled Data/stairs_labeled_4.csv',\n",
    "    'Multiclass Labeled Data/walking_labeled_3.csv',\n",
    "    'Multiclass Labeled Data/standing_labeled_5.csv'\n",
    "]\n",
    "data_frames = [pd.read_csv(file_path) for file_path in file_paths]\n",
    "combined_data = pd.concat(data_frames)\n",
    "\n",
    "# Preprocess the data\n",
    "data_for_model = combined_data.drop(columns=['timestamp'])  # Drop timestamp\n",
    "X = data_for_model.drop(columns=['label'])\n",
    "y = data_for_model['label'].values\n",
    "\n",
    "\n",
    "scaler = StandardScaler()\n",
    "X_scaled = scaler.fit_transform(X)\n",
    "\n",
    "encoder = LabelEncoder()\n",
    "y_encoded = encoder.fit_transform(y)\n",
    "\n",
    "X_train, X_test, y_train, y_test = train_test_split(X_scaled, y_encoded, test_size=0.2, random_state=42)\n",
    "\n",
    "X_train_lstm = np.reshape(X_train, (X_train.shape[0], 1, X_train.shape[1]))\n",
    "X_test_lstm = np.reshape(X_test, (X_test.shape[0], 1, X_test.shape[1]))\n",
    "\n",
    "\n",
    "# Build the LSTM model\n",
    "model = Sequential([\n",
    "    LSTM(64, input_shape=(X_train_lstm.shape[1], X_train_lstm.shape[2]), return_sequences=True),\n",
    "    LSTM(32),\n",
    "    Dense(32, activation='relu'),\n",
    "    Dense(len(np.unique(y_encoded)), activation='softmax')\n",
    "])\n",
    "\n",
    "model.compile(optimizer='adam', loss='sparse_categorical_crossentropy', metrics=['accuracy'])\n",
    "\n",
    "early_stopping = EarlyStopping(monitor='val_loss', patience=5)\n",
    "\n",
    "# Train the model\n",
    "model.fit(X_train_lstm, y_train, epochs=50, validation_split=0.2, callbacks=[early_stopping], batch_size=64)\n",
    "\n",
    "# Save the model and preprocessors\n",
    "# model.save('lstm_model.h5') #legacy not optimal save in .keras\n",
    "model.save('LSTM_multi_sinput.keras')\n",
    "with open('scaler.pkl', 'wb') as f:\n",
    "    pickle.dump(scaler, f)\n",
    "with open('encoder.pkl', 'wb') as f:\n",
    "    pickle.dump(encoder, f)\n",
    "\n",
    "# Predict the test set\n",
    "y_pred_prob = model.predict(X_test_lstm)\n",
    "y_pred = np.argmax(y_pred_prob, axis=1)  # Convert probabilities to class labels\n",
    "\n",
    "# Calculate F1 Score\n",
    "f1 = f1_score(y_test, y_pred, average='weighted')  # 'weighted' accounts for label imbalance\n",
    "print(f\"F1 Score: {f1}\")\n",
    "\n",
    "# calculate confusion matrix\n",
    "cm = confusion_matrix(y_test, y_pred)\n",
    "\n",
    "#plot it\n",
    "# Plotting confusion matrix\n",
    "plt.figure(figsize=(10,7))\n",
    "sns.heatmap(cm, annot=True, fmt='d', cmap='Blues')\n",
    "plt.xlabel('Predicted labels')\n",
    "plt.ylabel('True labels')\n",
    "plt.title('Confusion Matrix')\n",
    "plt.show()\n",
    "\n",
    "print(\"Model and preprocessors saved successfully.\")\n"
   ]
  },
  {
   "cell_type": "code",
   "execution_count": 13,
   "metadata": {},
   "outputs": [
    {
     "name": "stdout",
     "output_type": "stream",
     "text": [
      "     acceleration_x  acceleration_y  acceleration_z  gyroscope_x  gyroscope_y  \\\n",
      "0            0.6799         -0.0400         -0.7637      -1.5182       1.5335   \n",
      "1            0.6787         -0.0454         -0.7712      -1.3046       1.4954   \n",
      "2            0.6790         -0.0391         -0.7598      -1.0529       1.3123   \n",
      "3            0.6743         -0.0354         -0.7656      -1.2894       1.3962   \n",
      "4            0.6711         -0.0393         -0.7603      -1.1368       1.3809   \n",
      "..              ...             ...             ...          ...          ...   \n",
      "815         -0.8477         -0.0168          0.0383      -0.9918       0.0000   \n",
      "816         -0.8301         -0.0161          0.0508       1.1673       1.3885   \n",
      "817         -0.8486         -0.0010          0.0354       1.2436       4.4785   \n",
      "818         -0.8547          0.0015          0.0430      -0.0916       1.2589   \n",
      "819         -0.8401         -0.0007          0.0388      -2.2049       1.5106   \n",
      "\n",
      "     gyroscope_z  label  \n",
      "0        -1.3351    0.0  \n",
      "1        -1.3962    0.0  \n",
      "2        -1.4496    0.0  \n",
      "3        -1.2131    0.0  \n",
      "4        -1.2436    0.0  \n",
      "..           ...    ...  \n",
      "815      -1.5793    0.0  \n",
      "816      -2.0981    0.0  \n",
      "817      -2.9755    0.0  \n",
      "818      -1.3733    0.0  \n",
      "819      -0.7095    NaN  \n",
      "\n",
      "[29260 rows x 7 columns]\n"
     ]
    }
   ],
   "source": [
    "data_for_model.head()\n",
    "print(data_for_model)\n",
    "print(X_train_lstm)"
   ]
  },
  {
   "cell_type": "code",
   "execution_count": 16,
   "metadata": {},
   "outputs": [
    {
     "name": "stdout",
     "output_type": "stream",
     "text": [
      "[[[ 0.40302177  0.42926801  0.1146559   1.26038993 -1.19940749\n",
      "    1.97893577]]\n",
      "\n",
      " [[ 0.16889011  0.00336906  1.80690971  0.02438356 -0.09762459\n",
      "    0.08637425]]\n",
      "\n",
      " [[ 0.141885    0.01262773 -0.11278301  2.66970918  0.32999807\n",
      "    1.35133661]]\n",
      "\n",
      " ...\n",
      "\n",
      " [[ 0.59127097  0.99949333 -2.24800117  0.43942691 -1.35268786\n",
      "    0.52726997]]\n",
      "\n",
      " [[-0.60691682  0.67489515  0.14443957 -0.727732    1.64898484\n",
      "    0.13244185]]\n",
      "\n",
      " [[ 0.51523717 -1.81950022  0.93966348 -1.03418224  0.55923856\n",
      "    0.18609977]]]\n"
     ]
    }
   ],
   "source": [
    "print(X_train_lstm)"
   ]
  },
  {
   "cell_type": "code",
   "execution_count": 6,
   "metadata": {},
   "outputs": [],
   "source": [
    "from tensorflow.keras.models import load_model\n",
    "\n",
    "# Load the trained LSTM model\n",
    "model = load_model('LSTM_model.keras')\n",
    "# Load the scaler\n",
    "with open('scaler.pkl', 'rb') as f:\n",
    "    scaler = pickle.load(f)\n",
    "# Load the encoder\n",
    "with open('encoder.pkl', 'rb') as f:\n",
    "    encoder = pickle.load(f)\n"
   ]
  },
  {
   "cell_type": "code",
   "execution_count": 29,
   "metadata": {},
   "outputs": [
    {
     "name": "stdout",
     "output_type": "stream",
     "text": [
      "   acceleration_x  acceleration_y  acceleration_z  gyroscope_x  gyroscope_y  \\\n",
      "0         -0.2246          0.0603          1.0576      -1.5259       1.5411   \n",
      "1         -1.2246          1.0603          1.0576      -1.5259       1.5411   \n",
      "2         -2.2246          1.0603          1.0576      -1.5259       1.5411   \n",
      "\n",
      "   gyroscope_z  \n",
      "0      -1.3123  \n",
      "1      -1.3123  \n",
      "2      -1.3123  \n"
     ]
    }
   ],
   "source": [
    "import pandas as pd\n",
    "data = {'acceleration_x': -0.2246, 'acceleration_y': 0.0603, 'acceleration_z': 1.0576, 'gyroscope_x': -1.5259, 'gyroscope_y': 1.5411, 'gyroscope_z': -1.3123}\n",
    "df = pd.DataFrame([data])\n",
    "data2 = {'acceleration_x': -1.2246, 'acceleration_y': 1.0603, 'acceleration_z': 1.0576, 'gyroscope_x': -1.5259, 'gyroscope_y': 1.5411, 'gyroscope_z': -1.3123}\n",
    "new_row1 = pd.DataFrame([data2])\n",
    "data3 = {'acceleration_x': -2.2246, 'acceleration_y': 1.0603, 'acceleration_z': 1.0576, 'gyroscope_x': -1.5259, 'gyroscope_y': 1.5411, 'gyroscope_z': -1.3123}\n",
    "new_row2 = pd.DataFrame([data3])\n",
    "\n",
    "df = pd.concat([df, new_row1], ignore_index=True)\n",
    "df = pd.concat([df, new_row2], ignore_index=True)\n",
    "print(df)\n",
    "\n"
   ]
  },
  {
   "cell_type": "code",
   "execution_count": 30,
   "metadata": {},
   "outputs": [
    {
     "name": "stdout",
     "output_type": "stream",
     "text": [
      "[[ 1.39146115  0.74678602  2.88697378  0.04371266  0.01818132  0.01537615]\n",
      " [-1.23039396  6.19306414  2.88697378  0.04371266  0.01818132  0.01537615]\n",
      " [-3.85224908  6.19306414  2.88697378  0.04371266  0.01818132  0.01537615]]\n"
     ]
    }
   ],
   "source": [
    "\n",
    "\n",
    "#df = pd.DataFrame([data])\n",
    "# Preprocess data\n",
    "scaled_data = scaler.transform(df)\n",
    "print(scaled_data)\n"
   ]
  },
  {
   "cell_type": "code",
   "execution_count": 31,
   "metadata": {},
   "outputs": [
    {
     "name": "stdout",
     "output_type": "stream",
     "text": [
      "[[[ 1.39146115  0.74678602  2.88697378  0.04371266  0.01818132\n",
      "    0.01537615]]\n",
      "\n",
      " [[-1.23039396  6.19306414  2.88697378  0.04371266  0.01818132\n",
      "    0.01537615]]\n",
      "\n",
      " [[-3.85224908  6.19306414  2.88697378  0.04371266  0.01818132\n",
      "    0.01537615]]]\n"
     ]
    }
   ],
   "source": [
    "\n",
    "reshaped_data = np.reshape(scaled_data, (-1, 1, 6))  # Reshape for LSTM input\n",
    "print(reshaped_data)"
   ]
  },
  {
   "cell_type": "code",
   "execution_count": 41,
   "metadata": {},
   "outputs": [
    {
     "name": "stdout",
     "output_type": "stream",
     "text": [
      "1/1 [==============================] - 0s 31ms/step\n",
      "[2 4 4]\n",
      "[2. 4. 4.]\n"
     ]
    }
   ],
   "source": [
    "\n",
    "# Predict\n",
    "prediction = model.predict(reshaped_data)\n",
    "# prediction = model.predict(data)\n",
    "predicted_label_index = np.argmax(prediction, axis=1)\n",
    "# Decode prediction\n",
    "predicted_label = encoder.inverse_transform(predicted_label_index)\n",
    "print(predicted_label_index)\n",
    "print(predicted_label)  # Return the label "
   ]
  },
  {
   "cell_type": "code",
   "execution_count": 39,
   "metadata": {},
   "outputs": [
    {
     "name": "stdout",
     "output_type": "stream",
     "text": [
      "6\n"
     ]
    }
   ],
   "source": [
    "print(X_train_lstm.shape[2])"
   ]
  }
 ],
 "metadata": {
  "kernelspec": {
   "display_name": "Python 3",
   "language": "python",
   "name": "python3"
  },
  "language_info": {
   "codemirror_mode": {
    "name": "ipython",
    "version": 3
   },
   "file_extension": ".py",
   "mimetype": "text/x-python",
   "name": "python",
   "nbconvert_exporter": "python",
   "pygments_lexer": "ipython3",
   "version": "3.10.0"
  }
 },
 "nbformat": 4,
 "nbformat_minor": 2
}
